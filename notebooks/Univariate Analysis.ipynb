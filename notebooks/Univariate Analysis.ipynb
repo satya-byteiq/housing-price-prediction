{
 "cells": [
  {
   "cell_type": "code",
   "execution_count": 1,
   "id": "4f9a287b",
   "metadata": {},
   "outputs": [],
   "source": [
    "import numpy as np\n",
    "import pandas as pd\n",
    "import matplotlib.pyplot as plt\n",
    "import seaborn as sns"
   ]
  },
  {
   "cell_type": "code",
   "execution_count": 2,
   "id": "b0984c24",
   "metadata": {},
   "outputs": [],
   "source": [
    "train_df = pd.read_csv(\"../data/raw/train.csv\")"
   ]
  },
  {
   "cell_type": "code",
   "execution_count": 4,
   "id": "7e4f0424",
   "metadata": {},
   "outputs": [],
   "source": [
    "metadata = pd.read_csv(\"../data/meta/meta_data_v2.csv\")"
   ]
  },
  {
   "cell_type": "code",
   "execution_count": 10,
   "id": "ef9951f2",
   "metadata": {},
   "outputs": [],
   "source": [
    "metadata = metadata.set_index('Column Name')"
   ]
  },
  {
   "cell_type": "code",
   "execution_count": 3,
   "id": "2b8686c0",
   "metadata": {
    "scrolled": true
   },
   "outputs": [
    {
     "data": {
      "text/plain": [
       "(1460, 81)"
      ]
     },
     "execution_count": 3,
     "metadata": {},
     "output_type": "execute_result"
    }
   ],
   "source": [
    "train_df.shape"
   ]
  },
  {
   "cell_type": "code",
   "execution_count": 7,
   "id": "b9638291",
   "metadata": {},
   "outputs": [
    {
     "name": "stdout",
     "output_type": "stream",
     "text": [
      "['Id', 'MSSubClass', 'MSZoning', 'LotFrontage', 'LotArea', 'Street', 'Alley', 'LotShape', 'LandContour', 'Utilities', 'LotConfig', 'LandSlope', 'Neighborhood', 'Condition1', 'Condition2', 'BldgType', 'HouseStyle', 'OverallQual', 'OverallCond', 'YearBuilt', 'YearRemodAdd', 'RoofStyle', 'RoofMatl', 'Exterior1st', 'Exterior2nd', 'MasVnrType', 'MasVnrArea', 'ExterQual', 'ExterCond', 'Foundation', 'BsmtQual', 'BsmtCond', 'BsmtExposure', 'BsmtFinType1', 'BsmtFinSF1', 'BsmtFinType2', 'BsmtFinSF2', 'BsmtUnfSF', 'TotalBsmtSF', 'Heating', 'HeatingQC', 'CentralAir', 'Electrical', '1stFlrSF', '2ndFlrSF', 'LowQualFinSF', 'GrLivArea', 'BsmtFullBath', 'BsmtHalfBath', 'FullBath', 'HalfBath', 'BedroomAbvGr', 'KitchenAbvGr', 'KitchenQual', 'TotRmsAbvGrd', 'Functional', 'Fireplaces', 'FireplaceQu', 'GarageType', 'GarageYrBlt', 'GarageFinish', 'GarageCars', 'GarageArea', 'GarageQual', 'GarageCond', 'PavedDrive', 'WoodDeckSF', 'OpenPorchSF', 'EnclosedPorch', '3SsnPorch', 'ScreenPorch', 'PoolArea', 'PoolQC', 'Fence', 'MiscFeature', 'MiscVal', 'MoSold', 'YrSold', 'SaleType', 'SaleCondition', 'SalePrice']\n"
     ]
    }
   ],
   "source": [
    "print(metadata['Column Name'].tolist())"
   ]
  },
  {
   "cell_type": "markdown",
   "id": "d9360df8",
   "metadata": {},
   "source": [
    "### Univariate Analysis"
   ]
  },
  {
   "cell_type": "code",
   "execution_count": 11,
   "id": "09936878",
   "metadata": {},
   "outputs": [
    {
     "data": {
      "text/plain": [
       "Explanation                          Id of the record\n",
       "Category                                            -\n",
       "Sub Category                                        -\n",
       "Relationship strength with Target                   -\n",
       "present data type                               int64\n",
       "valid data type                                   NaN\n",
       "Fill rate in train data                         100.0\n",
       "Remarks                                           NaN\n",
       "Name: Id, dtype: object"
      ]
     },
     "execution_count": 11,
     "metadata": {},
     "output_type": "execute_result"
    }
   ],
   "source": [
    "metadata.iloc[0, :]"
   ]
  },
  {
   "cell_type": "code",
   "execution_count": 9,
   "id": "bdce4573",
   "metadata": {},
   "outputs": [
    {
     "data": {
      "text/plain": [
       "0"
      ]
     },
     "execution_count": 9,
     "metadata": {},
     "output_type": "execute_result"
    }
   ],
   "source": [
    "# Id should be unique\n",
    "\n",
    "train_df['Id'].duplicated().sum()"
   ]
  },
  {
   "cell_type": "code",
   "execution_count": 13,
   "id": "1292330e",
   "metadata": {},
   "outputs": [
    {
     "data": {
      "text/plain": [
       "Explanation                          Identifies the type of dwelling involved in th...\n",
       "Category                                                                       Quality\n",
       "Sub Category                                                             House Quality\n",
       "Relationship strength with Target                                               Strong\n",
       "present data type                                                                int64\n",
       "valid data type                                                                    NaN\n",
       "Fill rate in train data                                                          100.0\n",
       "Remarks                                                                            NaN\n",
       "Name: MSSubClass, dtype: object"
      ]
     },
     "execution_count": 13,
     "metadata": {},
     "output_type": "execute_result"
    }
   ],
   "source": [
    "metadata.iloc[1, :]"
   ]
  },
  {
   "cell_type": "code",
   "execution_count": 18,
   "id": "98ff96e9",
   "metadata": {},
   "outputs": [
    {
     "data": {
      "text/plain": [
       "20     0.367123\n",
       "60     0.204795\n",
       "50     0.098630\n",
       "120    0.059589\n",
       "30     0.047260\n",
       "160    0.043151\n",
       "70     0.041096\n",
       "80     0.039726\n",
       "90     0.035616\n",
       "190    0.020548\n",
       "85     0.013699\n",
       "75     0.010959\n",
       "45     0.008219\n",
       "180    0.006849\n",
       "40     0.002740\n",
       "Name: MSSubClass, dtype: float64"
      ]
     },
     "execution_count": 18,
     "metadata": {},
     "output_type": "execute_result"
    }
   ],
   "source": [
    "# MSSubClass\n",
    "\n",
    "train_df['MSSubClass'].value_counts(normalize=True)"
   ]
  },
  {
   "cell_type": "markdown",
   "id": "dd4b8978",
   "metadata": {},
   "source": [
    "The most selling categories are:\n",
    "1. 20: 1-STORY 1946 & NEWER ALL STYLES\n",
    "2. 60: 2-STORY 1946 & NEWER\n",
    "3. 50: 1-1/2 STORY FINISHED ALL AGES\n",
    "4. 120: 1-STORY PUD (Planned Unit Development) - 1946 & NEWER\n",
    "5. 30: 1-STORY 1945 & OLDER\n",
    "\n",
    "These 5 category summed to 77.74%"
   ]
  },
  {
   "cell_type": "code",
   "execution_count": 19,
   "id": "613ab242",
   "metadata": {},
   "outputs": [
    {
     "data": {
      "text/plain": [
       "Explanation                          Zone of the house location\n",
       "Category                                               Location\n",
       "Sub Category                                      Communication\n",
       "Relationship strength with Target                        Strong\n",
       "present data type                                        object\n",
       "valid data type                                             NaN\n",
       "Fill rate in train data                                   100.0\n",
       "Remarks                                                     NaN\n",
       "Name: MSZoning, dtype: object"
      ]
     },
     "execution_count": 19,
     "metadata": {},
     "output_type": "execute_result"
    }
   ],
   "source": [
    "metadata.iloc[2, :]"
   ]
  },
  {
   "cell_type": "code",
   "execution_count": 22,
   "id": "adf4e1b5",
   "metadata": {},
   "outputs": [
    {
     "data": {
      "text/plain": [
       "RL         0.788356\n",
       "RM         0.149315\n",
       "FV         0.044521\n",
       "RH         0.010959\n",
       "C (all)    0.006849\n",
       "Name: MSZoning, dtype: float64"
      ]
     },
     "execution_count": 22,
     "metadata": {},
     "output_type": "execute_result"
    }
   ],
   "source": [
    "train_df['MSZoning'].value_counts(normalize=True)"
   ]
  },
  {
   "cell_type": "markdown",
   "id": "c8d77afd",
   "metadata": {},
   "source": [
    "Top 3 categories comprised of 98.21%\n",
    "1. RL: Residential Low Density\n",
    "2. RM: Residential medium Density\n",
    "3. FV: Floating Village Residential"
   ]
  },
  {
   "cell_type": "code",
   "execution_count": 24,
   "id": "2d1eeaef",
   "metadata": {},
   "outputs": [
    {
     "data": {
      "text/plain": [
       "Explanation                          Linear feet of street connected to property\n",
       "Category                                                                 Quality\n",
       "Sub Category                                                       Outer Quality\n",
       "Relationship strength with Target                                         Strong\n",
       "present data type                                                        float64\n",
       "valid data type                                                              NaN\n",
       "Fill rate in train data                                                82.260274\n",
       "Remarks                                                                      NaN\n",
       "Name: LotFrontage, dtype: object"
      ]
     },
     "execution_count": 24,
     "metadata": {},
     "output_type": "execute_result"
    }
   ],
   "source": [
    "metadata.iloc[3, :]"
   ]
  },
  {
   "cell_type": "code",
   "execution_count": 26,
   "id": "476f3a13",
   "metadata": {},
   "outputs": [
    {
     "data": {
      "text/plain": [
       "count    1201.000000\n",
       "mean       70.049958\n",
       "std        24.284752\n",
       "min        21.000000\n",
       "25%        59.000000\n",
       "50%        69.000000\n",
       "75%        80.000000\n",
       "max       313.000000\n",
       "Name: LotFrontage, dtype: float64"
      ]
     },
     "execution_count": 26,
     "metadata": {},
     "output_type": "execute_result"
    }
   ],
   "source": [
    "train_df['LotFrontage'].describe()"
   ]
  },
  {
   "cell_type": "code",
   "execution_count": 28,
   "id": "694eb54f",
   "metadata": {},
   "outputs": [
    {
     "data": {
      "image/png": "[encoded data removed]",
      "text/plain": [
       "<Figure size 640x480 with 1 Axes>"
      ]
     },
     "metadata": {},
     "output_type": "display_data"
    }
   ],
   "source": [
    "sns.histplot(train_df['LotFrontage'])\n",
    "plt.show()"
   ]
  },
  {
   "cell_type": "code",
   "execution_count": 30,
   "id": "5fb913c8",
   "metadata": {},
   "outputs": [
    {
     "data": {
      "text/plain": [
       "(107.0, 141.0)"
      ]
     },
     "execution_count": 30,
     "metadata": {},
     "output_type": "execute_result"
    }
   ],
   "source": [
    "train_df['LotFrontage'].quantile(0.95), train_df['LotFrontage'].quantile(0.99)"
   ]
  },
  {
   "cell_type": "markdown",
   "id": "244d4cce",
   "metadata": {},
   "source": [
    "75% of the houses are located within 69 feet distance, upto 95% of dataset is below 107 feet, 99% of the house is less than 141 ft. Highest is 313 ft"
   ]
  },
  {
   "cell_type": "code",
   "execution_count": 31,
   "id": "640e06e7",
   "metadata": {},
   "outputs": [
    {
     "data": {
      "text/plain": [
       "Explanation                          Lot size in square feet\n",
       "Category                                             Quality\n",
       "Sub Category                                   Inner Quality\n",
       "Relationship strength with Target                     Strong\n",
       "present data type                                      int64\n",
       "valid data type                                          NaN\n",
       "Fill rate in train data                                100.0\n",
       "Remarks                                                  NaN\n",
       "Name: LotArea, dtype: object"
      ]
     },
     "execution_count": 31,
     "metadata": {},
     "output_type": "execute_result"
    }
   ],
   "source": [
    "metadata.iloc[4, :]"
   ]
  },
  {
   "cell_type": "code",
   "execution_count": 32,
   "id": "d76efebd",
   "metadata": {},
   "outputs": [
    {
     "data": {
      "text/plain": [
       "count      1460.000000\n",
       "mean      10516.828082\n",
       "std        9981.264932\n",
       "min        1300.000000\n",
       "25%        7553.500000\n",
       "50%        9478.500000\n",
       "75%       11601.500000\n",
       "max      215245.000000\n",
       "Name: LotArea, dtype: float64"
      ]
     },
     "execution_count": 32,
     "metadata": {},
     "output_type": "execute_result"
    }
   ],
   "source": [
    "train_df['LotArea'].describe()"
   ]
  },
  {
   "cell_type": "code",
   "execution_count": 34,
   "id": "ffc108a5",
   "metadata": {},
   "outputs": [
    {
     "data": {
      "image/png": "[encoded data removed]",
      "text/plain": [
       "<Figure size 640x480 with 1 Axes>"
      ]
     },
     "metadata": {},
     "output_type": "display_data"
    }
   ],
   "source": [
    "sns.histplot(train_df['LotArea'])\n",
    "plt.show()"
   ]
  },
  {
   "cell_type": "code",
   "execution_count": 38,
   "id": "71384579",
   "metadata": {},
   "outputs": [
    {
     "data": {
      "text/plain": [
       "(17401.149999999998, 37567.64000000021)"
      ]
     },
     "execution_count": 38,
     "metadata": {},
     "output_type": "execute_result"
    }
   ],
   "source": [
    "train_df['LotArea'].quantile(0.95), train_df['LotArea'].quantile(0.99)"
   ]
  },
  {
   "cell_type": "markdown",
   "id": "48ea75b1",
   "metadata": {},
   "source": [
    "Lot area is rightly skewed (positive skew). 75% of the record has less than 12k sq feet lot area. And 99% data has\n",
    "less than 38k sq feet. Median value is 9478 sq feet."
   ]
  },
  {
   "cell_type": "code",
   "execution_count": 40,
   "id": "415181ef",
   "metadata": {},
   "outputs": [
    {
     "data": {
      "text/plain": [
       "Explanation                          Type of road access to property\n",
       "Category                                               Communication\n",
       "Sub Category                                           Communication\n",
       "Relationship strength with Target                               Weak\n",
       "present data type                                             object\n",
       "valid data type                                                  NaN\n",
       "Fill rate in train data                                        100.0\n",
       "Remarks                                                          NaN\n",
       "Name: Street, dtype: object"
      ]
     },
     "execution_count": 40,
     "metadata": {},
     "output_type": "execute_result"
    }
   ],
   "source": [
    "metadata.iloc[5, :]"
   ]
  },
  {
   "cell_type": "code",
   "execution_count": 42,
   "id": "b1cf387b",
   "metadata": {},
   "outputs": [
    {
     "data": {
      "text/plain": [
       "Pave    0.99589\n",
       "Grvl    0.00411\n",
       "Name: Street, dtype: float64"
      ]
     },
     "execution_count": 42,
     "metadata": {},
     "output_type": "execute_result"
    }
   ],
   "source": [
    "train_df['Street'].value_counts(normalize=True)"
   ]
  },
  {
   "cell_type": "markdown",
   "id": "0ab58501",
   "metadata": {},
   "source": [
    "- Allmost all the roads are paved (made using cement bricks), only 0.4% of the roads are gravel."
   ]
  },
  {
   "cell_type": "code",
   "execution_count": 43,
   "id": "38a52696",
   "metadata": {},
   "outputs": [
    {
     "data": {
      "text/plain": [
       "Explanation                          Type of alley access to property\n",
       "Category                                                Communication\n",
       "Sub Category                                            Communication\n",
       "Relationship strength with Target                                Weak\n",
       "present data type                                              object\n",
       "valid data type                                                   NaN\n",
       "Fill rate in train data                                      6.232877\n",
       "Remarks                                                           NaN\n",
       "Name: Alley, dtype: object"
      ]
     },
     "execution_count": 43,
     "metadata": {},
     "output_type": "execute_result"
    }
   ],
   "source": [
    "metadata.iloc[6]"
   ]
  },
  {
   "cell_type": "code",
   "execution_count": 44,
   "id": "898b08b3",
   "metadata": {},
   "outputs": [
    {
     "data": {
      "text/plain": [
       "Grvl    50\n",
       "Pave    41\n",
       "Name: Alley, dtype: int64"
      ]
     },
     "execution_count": 44,
     "metadata": {},
     "output_type": "execute_result"
    }
   ],
   "source": [
    "train_df['Alley'].value_counts()"
   ]
  },
  {
   "cell_type": "markdown",
   "id": "1d6e2089",
   "metadata": {},
   "source": [
    "- Just check whether there is an alley or not. Then check the alley type. And check when it becomes null values."
   ]
  },
  {
   "cell_type": "code",
   "execution_count": 45,
   "id": "003f6840",
   "metadata": {},
   "outputs": [
    {
     "data": {
      "text/plain": [
       "Explanation                          shape of the property\n",
       "Category                                           Quality\n",
       "Sub Category                                 Inner Quality\n",
       "Relationship strength with Target                 Moderate\n",
       "present data type                                   object\n",
       "valid data type                                        NaN\n",
       "Fill rate in train data                              100.0\n",
       "Remarks                                                NaN\n",
       "Name: LotShape, dtype: object"
      ]
     },
     "execution_count": 45,
     "metadata": {},
     "output_type": "execute_result"
    }
   ],
   "source": [
    "metadata.iloc[7]"
   ]
  },
  {
   "cell_type": "code",
   "execution_count": 56,
   "id": "e5cd995e",
   "metadata": {},
   "outputs": [
    {
     "data": {
      "text/plain": [
       "Reg    0.633562\n",
       "IR1    0.331507\n",
       "IR2    0.028082\n",
       "IR3    0.006849\n",
       "Name: LotShape, dtype: float64"
      ]
     },
     "execution_count": 56,
     "metadata": {},
     "output_type": "execute_result"
    }
   ],
   "source": [
    "train_df['LotShape'].value_counts(dropna=False, normalize=True)"
   ]
  },
  {
   "cell_type": "markdown",
   "id": "463ed8df",
   "metadata": {},
   "source": [
    "- Regular and IR1 contains 96.5% of dataset. Iregular type 2 and type 3 contains 3.5%."
   ]
  },
  {
   "cell_type": "code",
   "execution_count": 48,
   "id": "85fb1beb",
   "metadata": {},
   "outputs": [
    {
     "data": {
      "text/plain": [
       "Explanation                          Flatness of the property\n",
       "Category                                              Quality\n",
       "Sub Category                                    Inner Quality\n",
       "Relationship strength with Target                    Moderate\n",
       "present data type                                      object\n",
       "valid data type                                           NaN\n",
       "Fill rate in train data                                 100.0\n",
       "Remarks                                                   NaN\n",
       "Name: LandContour, dtype: object"
      ]
     },
     "execution_count": 48,
     "metadata": {},
     "output_type": "execute_result"
    }
   ],
   "source": [
    "metadata.iloc[8]"
   ]
  },
  {
   "cell_type": "code",
   "execution_count": 57,
   "id": "076e4eae",
   "metadata": {},
   "outputs": [
    {
     "data": {
      "text/plain": [
       "Lvl    0.897945\n",
       "Bnk    0.043151\n",
       "HLS    0.034247\n",
       "Low    0.024658\n",
       "Name: LandContour, dtype: float64"
      ]
     },
     "execution_count": 57,
     "metadata": {},
     "output_type": "execute_result"
    }
   ],
   "source": [
    "train_df['LandContour'].value_counts(normalize=True)"
   ]
  },
  {
   "cell_type": "markdown",
   "id": "6e84824d",
   "metadata": {},
   "source": [
    "- only Near Flat/Level contains around 90% of the property."
   ]
  },
  {
   "cell_type": "code",
   "execution_count": 52,
   "id": "e1fcd15b",
   "metadata": {},
   "outputs": [
    {
     "data": {
      "text/plain": [
       "Explanation                          Type of utilities available like electricity\n",
       "Category                                                                   Others\n",
       "Sub Category                                                               Others\n",
       "Relationship strength with Target                                            Weak\n",
       "present data type                                                          object\n",
       "valid data type                                                               NaN\n",
       "Fill rate in train data                                                     100.0\n",
       "Remarks                                                                       NaN\n",
       "Name: Utilities, dtype: object"
      ]
     },
     "execution_count": 52,
     "metadata": {},
     "output_type": "execute_result"
    }
   ],
   "source": [
    "metadata.iloc[9]"
   ]
  },
  {
   "cell_type": "code",
   "execution_count": 53,
   "id": "4c5d4d24",
   "metadata": {},
   "outputs": [
    {
     "data": {
      "text/plain": [
       "AllPub    1459\n",
       "NoSeWa       1\n",
       "Name: Utilities, dtype: int64"
      ]
     },
     "execution_count": 53,
     "metadata": {},
     "output_type": "execute_result"
    }
   ],
   "source": [
    "train_df['Utilities'].value_counts()"
   ]
  },
  {
   "cell_type": "markdown",
   "id": "5d4883f2",
   "metadata": {},
   "source": [
    "- allmost all the data contains Allpub services. Only 1 is with NoSeWa. We need to check the other \n",
    "independent variable"
   ]
  },
  {
   "cell_type": "code",
   "execution_count": 54,
   "id": "05291ee6",
   "metadata": {},
   "outputs": [
    {
     "data": {
      "text/plain": [
       "Explanation                          Type of lot: inside lot, corner lot etc\n",
       "Category                                                             Quality\n",
       "Sub Category                                                   Inner Quality\n",
       "Relationship strength with Target                                   Moderate\n",
       "present data type                                                     object\n",
       "valid data type                                                          NaN\n",
       "Fill rate in train data                                                100.0\n",
       "Remarks                                                                  NaN\n",
       "Name: LotConfig, dtype: object"
      ]
     },
     "execution_count": 54,
     "metadata": {},
     "output_type": "execute_result"
    }
   ],
   "source": [
    "metadata.iloc[10]"
   ]
  },
  {
   "cell_type": "code",
   "execution_count": 59,
   "id": "9bbdbe79",
   "metadata": {},
   "outputs": [
    {
     "data": {
      "text/plain": [
       "Inside     0.720548\n",
       "Corner     0.180137\n",
       "CulDSac    0.064384\n",
       "FR2        0.032192\n",
       "FR3        0.002740\n",
       "Name: LotConfig, dtype: float64"
      ]
     },
     "execution_count": 59,
     "metadata": {},
     "output_type": "execute_result"
    }
   ],
   "source": [
    "train_df['LotConfig'].value_counts(normalize=True)"
   ]
  },
  {
   "cell_type": "markdown",
   "id": "bbe57399",
   "metadata": {},
   "source": [
    "- only Inside and Corner plot covered 90% of the dataset. Ideally FR2 and FR3 should have the lower price compared to others."
   ]
  },
  {
   "cell_type": "code",
   "execution_count": 60,
   "id": "99942a8d",
   "metadata": {},
   "outputs": [
    {
     "data": {
      "text/plain": [
       "Explanation                          Slope of the property\n",
       "Category                                           Quality\n",
       "Sub Category                                 Inner Quality\n",
       "Relationship strength with Target                 Moderate\n",
       "present data type                                   object\n",
       "valid data type                                        NaN\n",
       "Fill rate in train data                              100.0\n",
       "Remarks                                                NaN\n",
       "Name: LandSlope, dtype: object"
      ]
     },
     "execution_count": 60,
     "metadata": {},
     "output_type": "execute_result"
    }
   ],
   "source": [
    "metadata.iloc[11]"
   ]
  },
  {
   "cell_type": "code",
   "execution_count": 62,
   "id": "d6998180",
   "metadata": {},
   "outputs": [
    {
     "data": {
      "text/plain": [
       "Gtl    0.946575\n",
       "Mod    0.044521\n",
       "Sev    0.008904\n",
       "Name: LandSlope, dtype: float64"
      ]
     },
     "execution_count": 62,
     "metadata": {},
     "output_type": "execute_result"
    }
   ],
   "source": [
    "train_df['LandSlope'].value_counts(normalize=True)"
   ]
  },
  {
   "cell_type": "markdown",
   "id": "aa68e124",
   "metadata": {},
   "source": [
    "- Allmost 94% of the data is gentle slope. And 6% is moderate and severe slope. Moderate and severe slope properties should have lower price comparision to the Gentle slope."
   ]
  },
  {
   "cell_type": "code",
   "execution_count": 63,
   "id": "e5b1b483",
   "metadata": {},
   "outputs": [
    {
     "data": {
      "text/plain": [
       "Explanation                          Location inside the city\n",
       "Category                                        Communication\n",
       "Sub Category                                    Communication\n",
       "Relationship strength with Target                      Strong\n",
       "present data type                                      object\n",
       "valid data type                                           NaN\n",
       "Fill rate in train data                                 100.0\n",
       "Remarks                                                   NaN\n",
       "Name: Neighborhood, dtype: object"
      ]
     },
     "execution_count": 63,
     "metadata": {},
     "output_type": "execute_result"
    }
   ],
   "source": [
    "metadata.iloc[12]"
   ]
  },
  {
   "cell_type": "code",
   "execution_count": 71,
   "id": "587a0763",
   "metadata": {},
   "outputs": [
    {
     "data": {
      "text/plain": [
       "0.8458904109589043"
      ]
     },
     "execution_count": 71,
     "metadata": {},
     "output_type": "execute_result"
    }
   ],
   "source": [
    "train_df['Neighborhood'].value_counts(normalize=True)[:14].sum()"
   ]
  },
  {
   "cell_type": "markdown",
   "id": "dffbd093",
   "metadata": {},
   "source": [
    "- Top 14 categories comprises of 84.58%. Rest 11 categories have only 15.5%. So assumption is 15.5% of the variables should have low price. It's based on the assumption that, the location is not popular. Or might be good quality houses were their to match the price. (low price as compared to other locations)\n",
    "\n",
    "- The second assumptions can be made that, it's premium that's why people can't afford."
   ]
  },
  {
   "cell_type": "code",
   "execution_count": 72,
   "id": "eb0f8819",
   "metadata": {},
   "outputs": [
    {
     "data": {
      "text/plain": [
       "Explanation                          Communication to the property\n",
       "Category                                             Communication\n",
       "Sub Category                                         Communication\n",
       "Relationship strength with Target                           Strong\n",
       "present data type                                           object\n",
       "valid data type                                                NaN\n",
       "Fill rate in train data                                      100.0\n",
       "Remarks                                                        NaN\n",
       "Name: Condition1, dtype: object"
      ]
     },
     "execution_count": 72,
     "metadata": {},
     "output_type": "execute_result"
    }
   ],
   "source": [
    "metadata.iloc[13]"
   ]
  },
  {
   "cell_type": "code",
   "execution_count": 74,
   "id": "64f59000",
   "metadata": {},
   "outputs": [
    {
     "data": {
      "text/plain": [
       "Norm      0.863014\n",
       "Feedr     0.055479\n",
       "Artery    0.032877\n",
       "RRAn      0.017808\n",
       "PosN      0.013014\n",
       "RRAe      0.007534\n",
       "PosA      0.005479\n",
       "RRNn      0.003425\n",
       "RRNe      0.001370\n",
       "Name: Condition1, dtype: float64"
      ]
     },
     "execution_count": 74,
     "metadata": {},
     "output_type": "execute_result"
    }
   ],
   "source": [
    "train_df['Condition1'].value_counts(normalize=True)"
   ]
  },
  {
   "cell_type": "markdown",
   "id": "f0db06b6",
   "metadata": {},
   "source": [
    "- 86.30% of the dataset is normal. Rest are belongs to some category, those categories are adjacent to some roads and railway tracks. People are avoiding to buy property (or property is not available). Houses which are nearer to the roads might be costlier than others. "
   ]
  },
  {
   "cell_type": "code",
   "execution_count": 75,
   "id": "4f68fe23",
   "metadata": {},
   "outputs": [
    {
     "data": {
      "text/plain": [
       "Explanation                          Communication to the property\n",
       "Category                                             Communication\n",
       "Sub Category                                         Communication\n",
       "Relationship strength with Target                           Strong\n",
       "present data type                                           object\n",
       "valid data type                                                NaN\n",
       "Fill rate in train data                                      100.0\n",
       "Remarks                                                        NaN\n",
       "Name: Condition2, dtype: object"
      ]
     },
     "execution_count": 75,
     "metadata": {},
     "output_type": "execute_result"
    }
   ],
   "source": [
    "metadata.iloc[14]"
   ]
  },
  {
   "cell_type": "code",
   "execution_count": 77,
   "id": "8b7847eb",
   "metadata": {},
   "outputs": [
    {
     "data": {
      "text/plain": [
       "Norm      0.989726\n",
       "Feedr     0.004110\n",
       "Artery    0.001370\n",
       "RRNn      0.001370\n",
       "PosN      0.001370\n",
       "PosA      0.000685\n",
       "RRAn      0.000685\n",
       "RRAe      0.000685\n",
       "Name: Condition2, dtype: float64"
      ]
     },
     "execution_count": 77,
     "metadata": {},
     "output_type": "execute_result"
    }
   ],
   "source": [
    "train_df['Condition2'].value_counts(normalize=True)"
   ]
  },
  {
   "cell_type": "markdown",
   "id": "be339fab",
   "metadata": {},
   "source": [
    "98.97% of the data belongs to Normal. Rest are from different categories. Need to verify the median price against all the others with normal condition."
   ]
  },
  {
   "cell_type": "code",
   "execution_count": 78,
   "id": "2bc23edc",
   "metadata": {},
   "outputs": [
    {
     "data": {
      "text/plain": [
       "Explanation                          Type of house\n",
       "Category                                   Quality\n",
       "Sub Category                         House Quality\n",
       "Relationship strength with Target           Strong\n",
       "present data type                           object\n",
       "valid data type                                NaN\n",
       "Fill rate in train data                      100.0\n",
       "Remarks                                        NaN\n",
       "Name: BldgType, dtype: object"
      ]
     },
     "execution_count": 78,
     "metadata": {},
     "output_type": "execute_result"
    }
   ],
   "source": [
    "metadata.iloc[15]"
   ]
  },
  {
   "cell_type": "code",
   "execution_count": 80,
   "id": "9a0f921f",
   "metadata": {},
   "outputs": [
    {
     "data": {
      "text/plain": [
       "1Fam      1220\n",
       "TwnhsE     114\n",
       "Duplex      52\n",
       "Twnhs       43\n",
       "2fmCon      31\n",
       "Name: BldgType, dtype: int64"
      ]
     },
     "execution_count": 80,
     "metadata": {},
     "output_type": "execute_result"
    }
   ],
   "source": [
    "train_df['BldgType'].value_counts()"
   ]
  },
  {
   "cell_type": "markdown",
   "id": "ab5b90bc",
   "metadata": {},
   "source": [
    "- One family houses are more, because people  are referring to it. (assumptions: ) price in decreasing order: \n",
    "duplex, 2fmCon, 1Fam, TwnhsE, Twnhs."
   ]
  },
  {
   "cell_type": "code",
   "execution_count": null,
   "id": "e12d8ff7",
   "metadata": {},
   "outputs": [],
   "source": []
  }
 ],
 "metadata": {
  "kernelspec": {
   "display_name": "Python 3 (ipykernel)",
   "language": "python",
   "name": "python3"
  },
  "language_info": {
   "codemirror_mode": {
    "name": "ipython",
    "version": 3
   },
   "file_extension": ".py",
   "mimetype": "text/x-python",
   "name": "python",
   "nbconvert_exporter": "python",
   "pygments_lexer": "ipython3",
   "version": "3.9.13"
  }
 },
 "nbformat": 4,
 "nbformat_minor": 5
}
